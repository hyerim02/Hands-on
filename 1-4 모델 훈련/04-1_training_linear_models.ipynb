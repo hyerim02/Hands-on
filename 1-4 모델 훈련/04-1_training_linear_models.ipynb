{
 "cells": [
  {
   "cell_type": "markdown",
   "metadata": {},
   "source": [
    "# <span style=\"color:deepskyblue\">4.1 선형회귀 </span>    \n",
    "---"
   ]
  },
  {
   "cell_type": "markdown",
   "metadata": {},
   "source": [
    "$$삶의 만족도= \\theta_0 + \\theta_1 \\times 1인당 GDP$$  \n",
    "\n",
    "이 모델은 입력 특성인 1인당 GDP에 대한 선형 함수이고,$\\theta_0, \\theta_1$ 은 모델 파라미터  "
   ]
  },
  {
   "cell_type": "markdown",
   "metadata": {},
   "source": [
    "모델을 훈련시킨다는 것은 모델이 훈련 세트에 가장 잘 맞도록 모델 파라미터를 설정하는 것   \n",
    "\n",
    "이를 위해 먼저 모델이 훈련 데이터에 얼마나 잘 들어맞는지 측정해야 함  \n",
    "\n",
    "회귀에서는 성능 측정 지표로 RMSE를 많이 사용    \n",
    "\n",
    "그러므로 선형 회귀 모델을 훈련시키려면 $\\theta$ 를 찾아야 함"
   ]
  },
  {
   "cell_type": "markdown",
   "metadata": {},
   "source": [
    "## <span style=\"color:lightpink\">4.1.1 정규방정식 </span>  "
   ]
  },
  {
   "cell_type": "markdown",
   "metadata": {},
   "source": [
    "비용 함수를 최소화하는 $\\theta$를 찾기 위한 해석적인 방법  \n",
    "$\\hat\\theta=(X^TX)^{-1}X^Ty$"
   ]
  },
  {
   "cell_type": "markdown",
   "metadata": {},
   "source": [
    "이 공식을 테스트하기 위해 선형처럼 보이는 데이터 생성"
   ]
  },
  {
   "cell_type": "code",
   "execution_count": 1,
   "metadata": {
    "ExecuteTime": {
     "end_time": "2022-08-29T02:32:46.006860Z",
     "start_time": "2022-08-29T02:32:45.489776Z"
    }
   },
   "outputs": [],
   "source": [
    "import numpy as np\n",
    "import matplotlib.pyplot as plt\n",
    "import matplotlib\n",
    "matplotlib.rc('font', family='NanumGothic')\n",
    "\n",
    "x=2*np.random.rand(100,1)\n",
    "y=4+3*x+np.random.randn(100,1)"
   ]
  },
  {
   "cell_type": "code",
   "execution_count": 2,
   "metadata": {
    "ExecuteTime": {
     "end_time": "2022-08-29T02:32:46.639393Z",
     "start_time": "2022-08-29T02:32:46.007858Z"
    }
   },
   "outputs": [
    {
     "data": {
      "image/png": "[encoded data removed]",
      "text/plain": [
       "<Figure size 432x288 with 1 Axes>"
      ]
     },
     "metadata": {
      "needs_background": "light"
     },
     "output_type": "display_data"
    }
   ],
   "source": [
    "plt.plot(x, y, \"b.\")\n",
    "plt.xlabel(\"$x_1$\", fontsize=18)\n",
    "plt.ylabel(\"$y$\", rotation=0, fontsize=18)\n",
    "plt.axis([0, 2, 0, 15])\n",
    "plt.show()"
   ]
  },
  {
   "cell_type": "code",
   "execution_count": 3,
   "metadata": {
    "ExecuteTime": {
     "end_time": "2022-08-29T02:32:46.655041Z",
     "start_time": "2022-08-29T02:32:46.641357Z"
    }
   },
   "outputs": [],
   "source": [
    "x_b=np.c_[np.ones((100,1)),x]\n",
    "theta_best=np.linalg.inv(x_b.T.dot(x_b)).dot(x_b.T).dot(y)"
   ]
  },
  {
   "cell_type": "markdown",
   "metadata": {},
   "source": [
    "정규 방정식으로 계산한 값을 확인"
   ]
  },
  {
   "cell_type": "code",
   "execution_count": 4,
   "metadata": {
    "ExecuteTime": {
     "end_time": "2022-08-29T02:32:46.670001Z",
     "start_time": "2022-08-29T02:32:46.657036Z"
    }
   },
   "outputs": [
    {
     "data": {
      "text/plain": [
       "array([[3.92056919],\n",
       "       [3.05979409]])"
      ]
     },
     "execution_count": 4,
     "metadata": {},
     "output_type": "execute_result"
    }
   ],
   "source": [
    "theta_best"
   ]
  },
  {
   "cell_type": "markdown",
   "metadata": {},
   "source": [
    "잡음 때문에 원래 함수의 파라미터를 정확하게 재현하지 못 함 "
   ]
  },
  {
   "cell_type": "markdown",
   "metadata": {},
   "source": [
    "$\\hat{\\theta}$를 이용해 예측  \n",
    "$\\hat{y}=X\\hat\\theta$"
   ]
  },
  {
   "cell_type": "code",
   "execution_count": 5,
   "metadata": {
    "ExecuteTime": {
     "end_time": "2022-08-29T02:32:46.684935Z",
     "start_time": "2022-08-29T02:32:46.671000Z"
    }
   },
   "outputs": [
    {
     "data": {
      "text/plain": [
       "array([[ 3.92056919],\n",
       "       [10.04015737]])"
      ]
     },
     "execution_count": 5,
     "metadata": {},
     "output_type": "execute_result"
    }
   ],
   "source": [
    "x_new=np.array([[0],[2]])\n",
    "x_new_b=np.c_[np.ones((2,1)),x_new]\n",
    "y_predict=x_new_b.dot(theta_best)\n",
    "y_predict"
   ]
  },
  {
   "cell_type": "code",
   "execution_count": 6,
   "metadata": {
    "ExecuteTime": {
     "end_time": "2022-08-29T02:32:47.016534Z",
     "start_time": "2022-08-29T02:32:46.686618Z"
    }
   },
   "outputs": [
    {
     "data": {
      "image/png": "[encoded data removed]",
      "text/plain": [
       "<Figure size 432x288 with 1 Axes>"
      ]
     },
     "metadata": {
      "needs_background": "light"
     },
     "output_type": "display_data"
    }
   ],
   "source": [
    "plt.plot(x_new, y_predict, \"r-\", linewidth=2, label=\"Predictions\")\n",
    "plt.plot(x, y, \"b.\")\n",
    "plt.xlabel(\"$x_1$\", fontsize=18)\n",
    "plt.ylabel(\"$y$\", rotation=0, fontsize=18)\n",
    "plt.legend(loc=\"upper left\", fontsize=14)\n",
    "plt.axis([0, 2, 0, 15])\n",
    "plt.show()"
   ]
  },
  {
   "cell_type": "code",
   "execution_count": 7,
   "metadata": {
    "ExecuteTime": {
     "end_time": "2022-08-29T02:32:48.527026Z",
     "start_time": "2022-08-29T02:32:47.017707Z"
    }
   },
   "outputs": [
    {
     "data": {
      "text/plain": [
       "(array([3.92056919]), array([[3.05979409]]))"
      ]
     },
     "execution_count": 7,
     "metadata": {},
     "output_type": "execute_result"
    }
   ],
   "source": [
    "from sklearn.linear_model import LinearRegression\n",
    "lin_reg=LinearRegression()\n",
    "lin_reg.fit(x,y)\n",
    "lin_reg.intercept_, lin_reg.coef_"
   ]
  },
  {
   "cell_type": "code",
   "execution_count": 8,
   "metadata": {
    "ExecuteTime": {
     "end_time": "2022-08-29T02:32:48.542605Z",
     "start_time": "2022-08-29T02:32:48.529811Z"
    }
   },
   "outputs": [
    {
     "data": {
      "text/plain": [
       "array([[ 3.92056919],\n",
       "       [10.04015737]])"
      ]
     },
     "execution_count": 8,
     "metadata": {},
     "output_type": "execute_result"
    }
   ],
   "source": [
    "lin_reg.predict(x_new)"
   ]
  },
  {
   "cell_type": "markdown",
   "metadata": {},
   "source": [
    "LinearRegression 클래스는 `scipy.linalg.lstsq()` 함수(\"least squares\"의 약자)를 사용하므로 이 함수를 직접 사용할 수 있음"
   ]
  },
  {
   "cell_type": "code",
   "execution_count": 9,
   "metadata": {
    "ExecuteTime": {
     "end_time": "2022-08-29T02:32:48.557290Z",
     "start_time": "2022-08-29T02:32:48.544601Z"
    }
   },
   "outputs": [
    {
     "data": {
      "text/plain": [
       "array([[3.92056919],\n",
       "       [3.05979409]])"
      ]
     },
     "execution_count": 9,
     "metadata": {},
     "output_type": "execute_result"
    }
   ],
   "source": [
    "theta_best_svd, residuals, rank, s = np.linalg.lstsq(x_b, y, rcond=1e-6)\n",
    "theta_best_svd"
   ]
  },
  {
   "cell_type": "markdown",
   "metadata": {},
   "source": [
    "이 함수는 $X^+y$을 계산  \n",
    "$X^+$는 $X$의 유사역행렬 (pseudoinverse)(Moore–Penrose 유사역행렬)  \n",
    "`np.linalg.pinv()`을 사용해서 유사역행렬을 직접 계산"
   ]
  },
  {
   "cell_type": "markdown",
   "metadata": {},
   "source": [
    "$\\hat\\theta=X^{+}\\hat{y}$"
   ]
  },
  {
   "cell_type": "code",
   "execution_count": 10,
   "metadata": {
    "ExecuteTime": {
     "end_time": "2022-08-29T02:32:48.573009Z",
     "start_time": "2022-08-29T02:32:48.560059Z"
    }
   },
   "outputs": [
    {
     "data": {
      "text/plain": [
       "array([[3.92056919],\n",
       "       [3.05979409]])"
      ]
     },
     "execution_count": 10,
     "metadata": {},
     "output_type": "execute_result"
    }
   ],
   "source": [
    "np.linalg.pinv(x_b).dot(y)"
   ]
  },
  {
   "cell_type": "markdown",
   "metadata": {},
   "source": [
    "유사역행렬은 특이값 분해(SVD, SVD는 훈련 세트 행렬 $X$를 3개의 행렬곱셈 $U \\sum V^T$로 분해)라 부르는 표준 행렬 분해 기법을 사용해  $X^+=V\\sum^+ U^T$계산  \n",
    "\n",
    "$\\sum^{+}$은 알고리즘이 $\\sum$을 먼저 구하고 어떤 낮은 임계값보다 작은 모든 수를 0으로 바꾼 뒤에, 모두 역수를 치환하고 행렬 전치를 한다.  \n",
    "\n",
    "정규 방정식을 계산하는 것보다 더 효율적이다."
   ]
  },
  {
   "cell_type": "markdown",
   "metadata": {},
   "source": [
    "## <span style=\"color:lightpink\">4.1.2 계산 복잡도 </span> "
   ]
  },
  {
   "cell_type": "markdown",
   "metadata": {},
   "source": [
    "정규 방정식은 $(n+1)\\times(n+1)$ 크기가 되는 $X^TX$의 역행렬을 계산"
   ]
  },
  {
   "cell_type": "markdown",
   "metadata": {},
   "source": [
    "# <span style=\"color:deepskyblue\">4.2 경사하강법 </span>    \n",
    "---"
   ]
  },
  {
   "cell_type": "markdown",
   "metadata": {},
   "source": [
    "여러 종류의 문제에서 최적의 해법을 찾을 수 있는 일반적인 최적화 알고리즘  \n",
    "경사 하강법의 기본 아이디어는 비용 함수를 최소화하기 위해 반복해서 파라미터를 조정해가는 것   \n"
   ]
  },
  {
   "cell_type": "markdown",
   "metadata": {},
   "source": [
    "$\\theta$를 임의 값으로 시작해서 한 번에 조금씩 비용 함수가 감소되는 방향으로 진향하여 알고리즘이 최솟값에 수렴할 때까지 점진적으로 향상"
   ]
  },
  {
   "cell_type": "markdown",
   "metadata": {},
   "source": [
    "경사 하강법에서 중요한 파라미터는 step의 크기로, 학습률 파라미터로 결정  \n",
    "학습률이 너무 작으면 알고리즘이 수렴하기 의해 많이 반복해야 하므로 시간이 오래 걸림"
   ]
  },
  {
   "cell_type": "markdown",
   "metadata": {},
   "source": [
    "선형 회귀를 위한 mse 비용 함수는 곡선에서 어떤 두 점을 선택해 선을 그어도 곡선을 가르지 않는 볼록함수  \n",
    "지역 최솟값은 없고 전역 최솟값만 존재"
   ]
  },
  {
   "cell_type": "markdown",
   "metadata": {},
   "source": [
    "## <span style=\"color:lightpink\">4.2.1 배치 경사 하강법 </span> "
   ]
  },
  {
   "cell_type": "markdown",
   "metadata": {},
   "source": [
    "각 모델 파라미터 $\\theta_{j}$에 대해 비용함수의 그래디언트를 계산"
   ]
  },
  {
   "cell_type": "markdown",
   "metadata": {},
   "source": [
    "$$\\frac{\\partial}{\\partial\\theta} MSE(\\theta)=\\frac{2}{m}X^T(X\\theta-y)$$"
   ]
  },
  {
   "cell_type": "markdown",
   "metadata": {},
   "source": [
    "경사 하강법의 스텝:  \n",
    "$$\\theta^{(nextstep)}=\\theta-\\eta\\frac{\\partial}{\\partial\\theta} MSE(\\theta)$$"
   ]
  },
  {
   "cell_type": "code",
   "execution_count": 11,
   "metadata": {
    "ExecuteTime": {
     "end_time": "2022-08-29T02:32:48.602655Z",
     "start_time": "2022-08-29T02:32:48.577094Z"
    }
   },
   "outputs": [],
   "source": [
    "eta = 0.1  # 학습률\n",
    "n_iterations = 1000\n",
    "m = 100\n",
    "\n",
    "theta = np.random.randn(2,1)  # 랜덤 초기화\n",
    "\n",
    "for iteration in range(n_iterations):\n",
    "    gradients = 2/m * x_b.T.dot(x_b.dot(theta) - y)\n",
    "    theta = theta - eta * gradients"
   ]
  },
  {
   "cell_type": "code",
   "execution_count": 12,
   "metadata": {
    "ExecuteTime": {
     "end_time": "2022-08-29T02:32:48.618149Z",
     "start_time": "2022-08-29T02:32:48.604594Z"
    }
   },
   "outputs": [
    {
     "data": {
      "text/plain": [
       "array([[3.92056919],\n",
       "       [3.05979409]])"
      ]
     },
     "execution_count": 12,
     "metadata": {},
     "output_type": "execute_result"
    }
   ],
   "source": [
    "theta"
   ]
  },
  {
   "cell_type": "code",
   "execution_count": 1,
   "metadata": {
    "ExecuteTime": {
     "end_time": "2022-09-02T02:11:54.371801Z",
     "start_time": "2022-09-02T02:11:54.355843Z"
    }
   },
   "outputs": [],
   "source": [
    "theta_path_bgd = []\n",
    "\n",
    "def plot_gradient_descent(theta, eta, theta_path=None):\n",
    "    m = len(x_b)\n",
    "    plt.plot(x, y, \"b.\")\n",
    "    n_iterations = 1000\n",
    "    for iteration in range(n_iterations):\n",
    "        if iteration < 10:\n",
    "            y_predict = x_new_b.dot(theta)\n",
    "            style = \"b-\" if iteration > 0 else \"r--\"\n",
    "            plt.plot(x_new, y_predict, style)\n",
    "        gradients = 2/m * x_b.T.dot(x_b.dot(theta) - y)\n",
    "        theta = theta - eta * gradients\n",
    "        if theta_path is not None:\n",
    "            theta_path.append(theta)\n",
    "    plt.xlabel(\"$x_1$\", fontsize=18)\n",
    "    plt.axis([0, 2, 0, 15])\n",
    "    plt.title(r\"$\\eta = {}$\".format(eta), fontsize=16)"
   ]
  },
  {
   "cell_type": "code",
   "execution_count": 14,
   "metadata": {
    "ExecuteTime": {
     "end_time": "2022-08-29T02:32:49.419913Z",
     "start_time": "2022-08-29T02:32:48.634915Z"
    }
   },
   "outputs": [
    {
     "data": {
      "image/png": "[encoded data removed]",
      "text/plain": [
       "<Figure size 720x288 with 3 Axes>"
      ]
     },
     "metadata": {
      "needs_background": "light"
     },
     "output_type": "display_data"
    }
   ],
   "source": [
    "np.random.seed(42)\n",
    "theta = np.random.randn(2,1) \n",
    "\n",
    "plt.figure(figsize=(10,4))\n",
    "plt.subplot(131); plot_gradient_descent(theta, eta=0.02)\n",
    "plt.ylabel(\"$y$\", rotation=0, fontsize=18)\n",
    "plt.subplot(132); plot_gradient_descent(theta, eta=0.1, theta_path=theta_path_bgd)\n",
    "plt.subplot(133); plot_gradient_descent(theta, eta=0.5)\n",
    "plt.show()"
   ]
  },
  {
   "cell_type": "markdown",
   "metadata": {},
   "source": [
    "적절한 학습률을 찾으려면 그리드 탐색을 사용하는데 너무 오래 걸리는 것을 막기 위해 횟수 제한  \n",
    "반복 횟수를 크게 해놓고 벡터의 놈이 $\\epsilon$보다 작으면 알고리즘 중지"
   ]
  },
  {
   "cell_type": "markdown",
   "metadata": {},
   "source": [
    "## <span style=\"color:lightpink\">4.2.2 확률적 경사 하강법 </span> "
   ]
  },
  {
   "cell_type": "markdown",
   "metadata": {},
   "source": [
    "배치 경사 하강법은 매 스텝에서 전체 훈련 세트를 사용해 그래디언트를 계산 $\\rightarrow$ 데이터가 커지면 느려짐  \n",
    "확률적 경사 하강법은 매 스텝에서 한 개의 샘플을 무작위로 선택하고 그 하나의 샘플에 대한 그래디언트를 계산"
   ]
  },
  {
   "cell_type": "markdown",
   "metadata": {},
   "source": [
    "m번 반복하는데 이때 각 반복을 에포크라고 함"
   ]
  },
  {
   "cell_type": "code",
   "execution_count": 15,
   "metadata": {
    "ExecuteTime": {
     "end_time": "2022-08-29T02:32:49.435462Z",
     "start_time": "2022-08-29T02:32:49.422843Z"
    }
   },
   "outputs": [],
   "source": [
    "theta_path_sgd = []\n",
    "m = len(x_b)\n",
    "np.random.seed(42)"
   ]
  },
  {
   "cell_type": "code",
   "execution_count": 16,
   "metadata": {
    "ExecuteTime": {
     "end_time": "2022-08-29T02:32:49.768358Z",
     "start_time": "2022-08-29T02:32:49.437460Z"
    }
   },
   "outputs": [
    {
     "data": {
      "image/png": "[encoded data removed]",
      "text/plain": [
       "<Figure size 432x288 with 1 Axes>"
      ]
     },
     "metadata": {
      "needs_background": "light"
     },
     "output_type": "display_data"
    }
   ],
   "source": [
    "n_epochs = 50\n",
    "t0, t1 = 5, 50  # 학습 스케줄 하이퍼파라미터\n",
    "\n",
    "def learning_schedule(t):\n",
    "    return t0 / (t + t1)\n",
    "\n",
    "theta = np.random.randn(2,1)  # 랜덤 초기화\n",
    "\n",
    "for epoch in range(n_epochs):\n",
    "    for i in range(m):\n",
    "        if epoch == 0 and i < 20:                    \n",
    "            y_predict = x_new_b.dot(theta)           \n",
    "            style = \"b-\" if i > 0 else \"r--\"         \n",
    "            plt.plot(x_new, y_predict, style)        \n",
    "        random_index = np.random.randint(m)\n",
    "        xi = x_b[random_index:random_index+1]\n",
    "        yi = y[random_index:random_index+1]\n",
    "        gradients = 2 * xi.T.dot(xi.dot(theta) - yi)\n",
    "        eta = learning_schedule(epoch * m + i)\n",
    "        theta = theta - eta * gradients\n",
    "        theta_path_sgd.append(theta)                 \n",
    "\n",
    "plt.plot(x, y, \"b.\")                                \n",
    "plt.xlabel(\"$x_1$\", fontsize=18)                     \n",
    "plt.ylabel(\"$y$\", rotation=0, fontsize=18)         \n",
    "plt.axis([0, 2, 0, 15])                                                       \n",
    "plt.show()        "
   ]
  },
  {
   "cell_type": "code",
   "execution_count": 17,
   "metadata": {
    "ExecuteTime": {
     "end_time": "2022-08-29T02:32:49.783249Z",
     "start_time": "2022-08-29T02:32:49.770355Z"
    }
   },
   "outputs": [
    {
     "data": {
      "text/plain": [
       "array([[3.91646843],\n",
       "       [3.08494531]])"
      ]
     },
     "execution_count": 17,
     "metadata": {},
     "output_type": "execute_result"
    }
   ],
   "source": [
    "theta"
   ]
  },
  {
   "cell_type": "code",
   "execution_count": 18,
   "metadata": {
    "ExecuteTime": {
     "end_time": "2022-08-29T02:32:49.798176Z",
     "start_time": "2022-08-29T02:32:49.786151Z"
    }
   },
   "outputs": [
    {
     "data": {
      "text/plain": [
       "SGDRegressor(eta0=0.1, max_iter=100, penalty=None, random_state=42)"
      ]
     },
     "execution_count": 18,
     "metadata": {},
     "output_type": "execute_result"
    }
   ],
   "source": [
    "from sklearn.linear_model import SGDRegressor\n",
    "\n",
    "sgd_reg = SGDRegressor(max_iter=100, tol=1e-3, penalty=None, eta0=0.1, random_state=42)\n",
    "sgd_reg.fit(x, y.ravel())"
   ]
  },
  {
   "cell_type": "code",
   "execution_count": 19,
   "metadata": {
    "ExecuteTime": {
     "end_time": "2022-08-29T02:32:49.813359Z",
     "start_time": "2022-08-29T02:32:49.801394Z"
    }
   },
   "outputs": [
    {
     "data": {
      "text/plain": [
       "(array([3.8659145]), array([3.09238464]))"
      ]
     },
     "execution_count": 19,
     "metadata": {},
     "output_type": "execute_result"
    }
   ],
   "source": [
    "sgd_reg.intercept_, sgd_reg.coef_"
   ]
  },
  {
   "cell_type": "markdown",
   "metadata": {},
   "source": [
    "## <span style=\"color:lightpink\">4.2.3 미니배치 경사 하강법 </span> "
   ]
  },
  {
   "cell_type": "markdown",
   "metadata": {},
   "source": [
    "미니배치라고 부르는 임의의 작은 샘플 세트에 대해 그래디언트를 계산  "
   ]
  },
  {
   "cell_type": "code",
   "execution_count": 20,
   "metadata": {
    "ExecuteTime": {
     "end_time": "2022-08-29T02:32:49.842987Z",
     "start_time": "2022-08-29T02:32:49.819175Z"
    }
   },
   "outputs": [],
   "source": [
    "theta_path_mgd = []\n",
    "\n",
    "n_iterations = 50\n",
    "minibatch_size = 20\n",
    "\n",
    "np.random.seed(42)\n",
    "theta = np.random.randn(2,1)  # 랜덤 초기화\n",
    "\n",
    "t0, t1 = 200, 1000\n",
    "def learning_schedule(t):\n",
    "    return t0 / (t + t1)\n",
    "\n",
    "t = 0\n",
    "for epoch in range(n_iterations):\n",
    "    shuffled_indices = np.random.permutation(m)\n",
    "    x_b_shuffled = x_b[shuffled_indices]\n",
    "    y_shuffled = y[shuffled_indices]\n",
    "    for i in range(0, m, minibatch_size):\n",
    "        t += 1\n",
    "        xi = x_b_shuffled[i:i+minibatch_size]\n",
    "        yi = y_shuffled[i:i+minibatch_size]\n",
    "        gradients = 2/minibatch_size * xi.T.dot(xi.dot(theta) - yi)\n",
    "        eta = learning_schedule(t)\n",
    "        theta = theta - eta * gradients\n",
    "        theta_path_mgd.append(theta)"
   ]
  },
  {
   "cell_type": "code",
   "execution_count": 21,
   "metadata": {
    "ExecuteTime": {
     "end_time": "2022-08-29T02:32:49.857947Z",
     "start_time": "2022-08-29T02:32:49.844981Z"
    }
   },
   "outputs": [
    {
     "data": {
      "text/plain": [
       "array([[3.87094621],\n",
       "       [3.02534869]])"
      ]
     },
     "execution_count": 21,
     "metadata": {},
     "output_type": "execute_result"
    }
   ],
   "source": [
    "theta"
   ]
  },
  {
   "cell_type": "code",
   "execution_count": 22,
   "metadata": {
    "ExecuteTime": {
     "end_time": "2022-08-29T02:32:49.872852Z",
     "start_time": "2022-08-29T02:32:49.859942Z"
    }
   },
   "outputs": [],
   "source": [
    "theta_path_bgd = np.array(theta_path_bgd)\n",
    "theta_path_sgd = np.array(theta_path_sgd)\n",
    "theta_path_mgd = np.array(theta_path_mgd)"
   ]
  },
  {
   "cell_type": "code",
   "execution_count": 23,
   "metadata": {
    "ExecuteTime": {
     "end_time": "2022-08-29T02:32:50.294113Z",
     "start_time": "2022-08-29T02:32:49.876841Z"
    }
   },
   "outputs": [
    {
     "data": {
      "image/png": "[encoded data removed]",
      "text/plain": [
       "<Figure size 504x288 with 1 Axes>"
      ]
     },
     "metadata": {
      "needs_background": "light"
     },
     "output_type": "display_data"
    }
   ],
   "source": [
    "plt.figure(figsize=(7,4))\n",
    "plt.plot(theta_path_sgd[:, 0], theta_path_sgd[:, 1], \"r-s\", linewidth=1, label=\"Stochastic\")\n",
    "plt.plot(theta_path_mgd[:, 0], theta_path_mgd[:, 1], \"g-+\", linewidth=2, label=\"Mini-batch\")\n",
    "plt.plot(theta_path_bgd[:, 0], theta_path_bgd[:, 1], \"b-o\", linewidth=3, label=\"Batch\")\n",
    "plt.legend(loc=\"upper left\", fontsize=16)\n",
    "plt.xlabel(r\"$\\theta_0$\", fontsize=20)\n",
    "plt.ylabel(r\"$\\theta_1$   \", fontsize=20, rotation=0)\n",
    "plt.axis([2, 4.8, 2, 4])\n",
    "plt.show()"
   ]
  },
  {
   "cell_type": "markdown",
   "metadata": {},
   "source": [
    "- 훈련과정동안 파라미터 공간에서 움직인 경로  \n",
    "- 최솟값으로 도달했지만 배치 경사 하강법의 경로는 멈추었는데 SGD나 미니배치 경사 하강법은 근처에서 맴돈다"
   ]
  }
 ],
 "metadata": {
  "kernelspec": {
   "display_name": "Python 3",
   "language": "python",
   "name": "python3"
  },
  "language_info": {
   "codemirror_mode": {
    "name": "ipython",
    "version": 3
   },
   "file_extension": ".py",
   "mimetype": "text/x-python",
   "name": "python",
   "nbconvert_exporter": "python",
   "pygments_lexer": "ipython3",
   "version": "3.8.5"
  },
  "toc": {
   "base_numbering": 1,
   "nav_menu": {},
   "number_sections": true,
   "sideBar": true,
   "skip_h1_title": false,
   "title_cell": "Table of Contents",
   "title_sidebar": "Contents",
   "toc_cell": false,
   "toc_position": {},
   "toc_section_display": true,
   "toc_window_display": false
  }
 },
 "nbformat": 4,
 "nbformat_minor": 4
}
